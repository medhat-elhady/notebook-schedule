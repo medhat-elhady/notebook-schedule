{
 "cells": [
  {
   "cell_type": "code",
   "execution_count": 10,
   "id": "b7931068-2308-4526-aa37-eef15ebf23b0",
   "metadata": {
    "tags": []
   },
   "outputs": [
    {
     "data": {
      "text/plain": [
       "'s3://sagemaker-us-east-1-908471171231/notebook-step-artifacts-pipelines/'"
      ]
     },
     "execution_count": 10,
     "metadata": {},
     "output_type": "execute_result"
    }
   ],
   "source": [
    "import sagemaker\n",
    "from sagemaker.workflow.notebook_job_step import NotebookJobStep\n",
    "from sagemaker.workflow.pipeline import Pipeline\n",
    "from sagemaker import session\n",
    "\n",
    "sagemaker_session = sagemaker.Session()\n",
    "default_bucket = sagemaker_session.default_bucket()\n",
    "subfolder_name = \"notebook-step-artifacts-pipelines/\"\n",
    "image_uri =\"908471171231.dkr.ecr.us-east-1.amazonaws.com/sagemaker-images:sm-distribution-custom-img-v2\"\n",
    "kernel_name = \"python3\"\n",
    "role = sagemaker.get_execution_role()\n",
    "notebook_artifacts = f\"s3://{default_bucket}/{subfolder_name}\"\n",
    "notebook_artifacts"
   ]
  },
  {
   "cell_type": "code",
   "execution_count": 16,
   "id": "e45b53cb-a5a5-4caa-856c-e570189d0d32",
   "metadata": {
    "tags": []
   },
   "outputs": [],
   "source": [
    "pipeline_name = \"nb-job-step-pipelines-demo3\"\n",
    "display_name = \"MyNotebookSteps\"\n",
    "preprocess_notebook = \"test_.ipynb\"\n",
    "preprocess_job_name = \"test\"\n",
    "preprocess_description = \"test to save file locally\"\n",
    "preprocess_step_name =\"test\"\n",
    "\n",
    "# notebook job parameters\n",
    "nb_job_params = {\"default_s3_bucket\": notebook_artifacts}\n",
    "\n",
    "preprocess_nb_step = NotebookJobStep(\n",
    "    name=preprocess_step_name,\n",
    "    description=preprocess_description,\n",
    "    notebook_job_name=preprocess_job_name,\n",
    "    image_uri=image_uri,\n",
    "    kernel_name=kernel_name,\n",
    "    display_name=display_name,\n",
    "    role=role,\n",
    "    input_notebook=preprocess_notebook,\n",
    "    instance_type=\"ml.m5.large\",\n",
    "    parameters=nb_job_params,\n",
    "    additional_dependencies=['requirements.txt'],\n",
    ")"
   ]
  },
  {
   "cell_type": "code",
   "execution_count": 17,
   "id": "651d7654-bb28-4710-b872-9b8aa5aae6fc",
   "metadata": {
    "tags": []
   },
   "outputs": [],
   "source": [
    "# create pipeline\n",
    "pipeline = Pipeline(\n",
    "    name=pipeline_name,\n",
    "    sagemaker_session=sagemaker_session,\n",
    "    steps=[preprocess_nb_step],\n",
    ")"
   ]
  },
  {
   "cell_type": "code",
   "execution_count": 18,
   "id": "c09d3f25-6287-483f-ad60-b90954bb36a7",
   "metadata": {
    "tags": []
   },
   "outputs": [
    {
     "name": "stdout",
     "output_type": "stream",
     "text": [
      "[{'StepName': 'test', 'StartTime': datetime.datetime(2024, 5, 21, 15, 20, 7, 329000, tzinfo=tzlocal()), 'EndTime': datetime.datetime(2024, 5, 21, 15, 23, 42, 498000, tzinfo=tzlocal()), 'StepStatus': 'Succeeded', 'Metadata': {'TrainingJob': {'Arn': 'arn:aws:sagemaker:us-east-1:908471171231:training-job/test-svwkei9eamir-9w8HuvoRNI'}}, 'AttemptCount': 1}]\n"
     ]
    }
   ],
   "source": [
    "pipeline.upsert(session.get_execution_role())\n",
    "execution = pipeline.start(parameters={})\n",
    "execution.wait(delay=50, max_attempts=60)\n",
    "execution_steps = execution.list_steps()\n",
    "print(execution_steps)"
   ]
  },
  {
   "cell_type": "code",
   "execution_count": 21,
   "id": "d18b4422-57f0-4b59-9b39-7acba5a4357b",
   "metadata": {
    "tags": []
   },
   "outputs": [
    {
     "name": "stdout",
     "output_type": "stream",
     "text": [
      "  - Output S3 Location: s3://sagemaker-us-east-1-908471171231/nb-job-step-pipelines-demo3/svwkei9eamir/test/test-svwkei9eamir-9w8HuvoRNI/output/output.tar.gz\n",
      "  - Output Notebook Name: test.ipynb\n",
      "Downloaded to ./outputs/test.ipynb\n"
     ]
    }
   ],
   "source": [
    "# download the output notebook\n",
    "\n",
    "from sagemaker.s3_utils import s3_path_join\n",
    "from sagemaker.utils import _tmpdir\n",
    "from sagemaker.s3 import S3Downloader\n",
    "import tarfile\n",
    "import os\n",
    "\n",
    "\n",
    "# get job details\n",
    "def _get_training_job_details(notebook_job_step):\n",
    "    training_job_arn = notebook_job_step[\"Metadata\"][\"TrainingJob\"][\"Arn\"]\n",
    "\n",
    "    return sagemaker_session.sagemaker_client.describe_training_job(\n",
    "        TrainingJobName=training_job_arn.split(\"/\")[1]\n",
    "    )\n",
    "\n",
    "\n",
    "def _download_notebook(output_s3_uri, output_notebook_name, kms_key=None):\n",
    "    download_folder = \"./outputs\"\n",
    "\n",
    "    if not os.path.exists(download_folder):\n",
    "        os.makedirs(download_folder)\n",
    "\n",
    "    \n",
    "    S3Downloader.download(\n",
    "        output_s3_uri,\n",
    "        download_folder,\n",
    "        sagemaker_session=sagemaker_session,\n",
    "        #kms_key=kms_key,\n",
    "    )\n",
    "\n",
    "    with tarfile.open(os.path.join(download_folder, \"output.tar.gz\"), \"r:gz\") as tar:\n",
    "        tar.extractall('./')\n",
    "        print(f\"Downloaded to {download_folder}/{output_notebook_name}\")\n",
    "\n",
    "\n",
    "# download the output notebook job\n",
    "job_description = _get_training_job_details(execution_steps[0])\n",
    "\n",
    "output_s3_uri = s3_path_join(\n",
    "    job_description[\"OutputDataConfig\"][\"S3OutputPath\"],\n",
    "    job_description[\"TrainingJobName\"],\n",
    "    \"output\",\n",
    "    \"output.tar.gz\",\n",
    ")\n",
    "output_notebook_name = job_description[\"Environment\"][\"SM_OUTPUT_NOTEBOOK_NAME\"]\n",
    "\n",
    "print(f\"  - Output S3 Location: {output_s3_uri}\")\n",
    "print(f\"  - Output Notebook Name: {output_notebook_name}\")\n",
    "\n",
    "_download_notebook(output_s3_uri, output_notebook_name)"
   ]
  },
  {
   "cell_type": "code",
   "execution_count": 24,
   "id": "3beac2c0-47d3-4a62-9e2d-a8c90655e988",
   "metadata": {
    "collapsed": true,
    "jupyter": {
     "outputs_hidden": true
    },
    "tags": []
   },
   "outputs": [
    {
     "name": "stderr",
     "output_type": "stream",
     "text": [
      "INFO:sagemaker.workflow.pipeline:Creating/Updating EventBridge Schedule for pipeline: nb-job-step-pipelines-demo3.\n"
     ]
    },
    {
     "ename": "ClientError",
     "evalue": "An error occurred (AccessDeniedException) when calling the UpdateSchedule operation: User: arn:aws:sts::908471171231:assumed-role/dre-poc-nonprod-sagemaker-execution-role/SageMaker is not authorized to perform: scheduler:UpdateSchedule on resource: arn:aws:scheduler:us-east-1:908471171231:schedule/default/savefile-every5min because no identity-based policy allows the scheduler:UpdateSchedule action",
     "output_type": "error",
     "traceback": [
      "\u001b[0;31m---------------------------------------------------------------------------\u001b[0m",
      "\u001b[0;31mClientError\u001b[0m                               Traceback (most recent call last)",
      "Cell \u001b[0;32mIn[24], line 9\u001b[0m\n\u001b[1;32m      3\u001b[0m \u001b[38;5;66;03m# schedules a pipeline run every 5 minutes\u001b[39;00m\n\u001b[1;32m      4\u001b[0m my_rate_schedule \u001b[38;5;241m=\u001b[39m PipelineSchedule(\n\u001b[1;32m      5\u001b[0m     name\u001b[38;5;241m=\u001b[39m\u001b[38;5;124m\"\u001b[39m\u001b[38;5;124msavefile-every5min\u001b[39m\u001b[38;5;124m\"\u001b[39m, \n\u001b[1;32m      6\u001b[0m     rate\u001b[38;5;241m=\u001b[39m(\u001b[38;5;241m5\u001b[39m, \u001b[38;5;124m\"\u001b[39m\u001b[38;5;124mminutes\u001b[39m\u001b[38;5;124m\"\u001b[39m)\n\u001b[1;32m      7\u001b[0m )\n\u001b[0;32m----> 9\u001b[0m \u001b[43mpipeline\u001b[49m\u001b[38;5;241;43m.\u001b[39;49m\u001b[43mput_triggers\u001b[49m\u001b[43m(\u001b[49m\u001b[43mtriggers\u001b[49m\u001b[38;5;241;43m=\u001b[39;49m\u001b[43m[\u001b[49m\u001b[43mmy_rate_schedule\u001b[49m\u001b[43m]\u001b[49m\u001b[43m,\u001b[49m\u001b[43m \u001b[49m\u001b[43mrole_arn\u001b[49m\u001b[38;5;241;43m=\u001b[39;49m\u001b[43mrole\u001b[49m\u001b[43m)\u001b[49m\n",
      "File \u001b[0;32m~/.local/lib/python3.9/site-packages/sagemaker/workflow/pipeline.py:593\u001b[0m, in \u001b[0;36mPipeline.put_triggers\u001b[0;34m(self, triggers, role_arn)\u001b[0m\n\u001b[1;32m    590\u001b[0m _schedule_name \u001b[38;5;241m=\u001b[39m trigger\u001b[38;5;241m.\u001b[39mresolve_trigger_name(\u001b[38;5;28mself\u001b[39m\u001b[38;5;241m.\u001b[39mname)\n\u001b[1;32m    592\u001b[0m logger\u001b[38;5;241m.\u001b[39minfo(\u001b[38;5;124m\"\u001b[39m\u001b[38;5;124mCreating/Updating EventBridge Schedule for pipeline: \u001b[39m\u001b[38;5;132;01m%s\u001b[39;00m\u001b[38;5;124m.\u001b[39m\u001b[38;5;124m\"\u001b[39m, \u001b[38;5;28mself\u001b[39m\u001b[38;5;241m.\u001b[39mname)\n\u001b[0;32m--> 593\u001b[0m event_bridge_schedule_arn \u001b[38;5;241m=\u001b[39m \u001b[38;5;28;43mself\u001b[39;49m\u001b[38;5;241;43m.\u001b[39;49m\u001b[43m_event_bridge_scheduler_helper\u001b[49m\u001b[38;5;241;43m.\u001b[39;49m\u001b[43mupsert_schedule\u001b[49m\u001b[43m(\u001b[49m\n\u001b[1;32m    594\u001b[0m \u001b[43m    \u001b[49m\u001b[43mschedule_name\u001b[49m\u001b[38;5;241;43m=\u001b[39;49m\u001b[43m_schedule_name\u001b[49m\u001b[43m,\u001b[49m\n\u001b[1;32m    595\u001b[0m \u001b[43m    \u001b[49m\u001b[43mpipeline_arn\u001b[49m\u001b[38;5;241;43m=\u001b[39;49m\u001b[43mdescribe_pipeline_response\u001b[49m\u001b[43m[\u001b[49m\u001b[38;5;124;43m\"\u001b[39;49m\u001b[38;5;124;43mPipelineArn\u001b[39;49m\u001b[38;5;124;43m\"\u001b[39;49m\u001b[43m]\u001b[49m\u001b[43m,\u001b[49m\n\u001b[1;32m    596\u001b[0m \u001b[43m    \u001b[49m\u001b[43mschedule_expression\u001b[49m\u001b[38;5;241;43m=\u001b[39;49m\u001b[43m_schedule_expression\u001b[49m\u001b[43m,\u001b[49m\n\u001b[1;32m    597\u001b[0m \u001b[43m    \u001b[49m\u001b[43mstate\u001b[49m\u001b[38;5;241;43m=\u001b[39;49m\u001b[43m_state\u001b[49m\u001b[43m,\u001b[49m\n\u001b[1;32m    598\u001b[0m \u001b[43m    \u001b[49m\u001b[43mstart_date\u001b[49m\u001b[38;5;241;43m=\u001b[39;49m\u001b[43m_start_date\u001b[49m\u001b[43m,\u001b[49m\n\u001b[1;32m    599\u001b[0m \u001b[43m    \u001b[49m\u001b[43mrole\u001b[49m\u001b[38;5;241;43m=\u001b[39;49m\u001b[43m_role_arn\u001b[49m\u001b[43m,\u001b[49m\n\u001b[1;32m    600\u001b[0m \u001b[43m\u001b[49m\u001b[43m)\u001b[49m\n\u001b[1;32m    601\u001b[0m logger\u001b[38;5;241m.\u001b[39minfo(\n\u001b[1;32m    602\u001b[0m     \u001b[38;5;124m\"\u001b[39m\u001b[38;5;124mCreated/Updated EventBridge Schedule for pipeline: \u001b[39m\u001b[38;5;132;01m%s\u001b[39;00m\u001b[38;5;124m with ScheduleName: \u001b[39m\u001b[38;5;132;01m%s\u001b[39;00m\u001b[38;5;124m\"\u001b[39m,\n\u001b[1;32m    603\u001b[0m     \u001b[38;5;28mself\u001b[39m\u001b[38;5;241m.\u001b[39mname,\n\u001b[1;32m    604\u001b[0m     _schedule_name,\n\u001b[1;32m    605\u001b[0m )\n\u001b[1;32m    606\u001b[0m created_triggers\u001b[38;5;241m.\u001b[39madd(event_bridge_schedule_arn[\u001b[38;5;124m\"\u001b[39m\u001b[38;5;124mScheduleArn\u001b[39m\u001b[38;5;124m\"\u001b[39m])\n",
      "File \u001b[0;32m~/.local/lib/python3.9/site-packages/sagemaker/workflow/_event_bridge_client_helper.py:86\u001b[0m, in \u001b[0;36mEventBridgeSchedulerHelper.upsert_schedule\u001b[0;34m(self, schedule_name, pipeline_arn, schedule_expression, state, start_date, role)\u001b[0m\n\u001b[1;32m     82\u001b[0m \u001b[38;5;28;01mif\u001b[39;00m RESOURCE_NOT_FOUND_EXCEPTION \u001b[38;5;241m==\u001b[39m e\u001b[38;5;241m.\u001b[39mresponse[\u001b[38;5;124m\"\u001b[39m\u001b[38;5;124mError\u001b[39m\u001b[38;5;124m\"\u001b[39m][\u001b[38;5;124m\"\u001b[39m\u001b[38;5;124mCode\u001b[39m\u001b[38;5;124m\"\u001b[39m]:\n\u001b[1;32m     83\u001b[0m     \u001b[38;5;28;01mreturn\u001b[39;00m \u001b[38;5;28mself\u001b[39m\u001b[38;5;241m.\u001b[39mevent_bridge_scheduler_client\u001b[38;5;241m.\u001b[39mcreate_schedule(\n\u001b[1;32m     84\u001b[0m         \u001b[38;5;241m*\u001b[39m\u001b[38;5;241m*\u001b[39mcreate_or_update_schedule_request_dict\n\u001b[1;32m     85\u001b[0m     )\n\u001b[0;32m---> 86\u001b[0m \u001b[38;5;28;01mraise\u001b[39;00m e\n",
      "File \u001b[0;32m~/.local/lib/python3.9/site-packages/sagemaker/workflow/_event_bridge_client_helper.py:78\u001b[0m, in \u001b[0;36mEventBridgeSchedulerHelper.upsert_schedule\u001b[0;34m(self, schedule_name, pipeline_arn, schedule_expression, state, start_date, role)\u001b[0m\n\u001b[1;32m     64\u001b[0m create_or_update_schedule_request_dict \u001b[38;5;241m=\u001b[39m \u001b[38;5;28mdict\u001b[39m(\n\u001b[1;32m     65\u001b[0m     Name\u001b[38;5;241m=\u001b[39mschedule_name,\n\u001b[1;32m     66\u001b[0m     ScheduleExpression\u001b[38;5;241m=\u001b[39mschedule_expression,\n\u001b[0;32m   (...)\u001b[0m\n\u001b[1;32m     74\u001b[0m     StartDate\u001b[38;5;241m=\u001b[39mstart_date,\n\u001b[1;32m     75\u001b[0m )\n\u001b[1;32m     77\u001b[0m \u001b[38;5;28;01mtry\u001b[39;00m:\n\u001b[0;32m---> 78\u001b[0m     \u001b[38;5;28;01mreturn\u001b[39;00m \u001b[38;5;28;43mself\u001b[39;49m\u001b[38;5;241;43m.\u001b[39;49m\u001b[43mevent_bridge_scheduler_client\u001b[49m\u001b[38;5;241;43m.\u001b[39;49m\u001b[43mupdate_schedule\u001b[49m\u001b[43m(\u001b[49m\n\u001b[1;32m     79\u001b[0m \u001b[43m        \u001b[49m\u001b[38;5;241;43m*\u001b[39;49m\u001b[38;5;241;43m*\u001b[39;49m\u001b[43mcreate_or_update_schedule_request_dict\u001b[49m\n\u001b[1;32m     80\u001b[0m \u001b[43m    \u001b[49m\u001b[43m)\u001b[49m\n\u001b[1;32m     81\u001b[0m \u001b[38;5;28;01mexcept\u001b[39;00m ClientError \u001b[38;5;28;01mas\u001b[39;00m e:\n\u001b[1;32m     82\u001b[0m     \u001b[38;5;28;01mif\u001b[39;00m RESOURCE_NOT_FOUND_EXCEPTION \u001b[38;5;241m==\u001b[39m e\u001b[38;5;241m.\u001b[39mresponse[\u001b[38;5;124m\"\u001b[39m\u001b[38;5;124mError\u001b[39m\u001b[38;5;124m\"\u001b[39m][\u001b[38;5;124m\"\u001b[39m\u001b[38;5;124mCode\u001b[39m\u001b[38;5;124m\"\u001b[39m]:\n",
      "File \u001b[0;32m~/.local/lib/python3.9/site-packages/botocore/client.py:565\u001b[0m, in \u001b[0;36mClientCreator._create_api_method.<locals>._api_call\u001b[0;34m(self, *args, **kwargs)\u001b[0m\n\u001b[1;32m    561\u001b[0m     \u001b[38;5;28;01mraise\u001b[39;00m \u001b[38;5;167;01mTypeError\u001b[39;00m(\n\u001b[1;32m    562\u001b[0m         \u001b[38;5;124mf\u001b[39m\u001b[38;5;124m\"\u001b[39m\u001b[38;5;132;01m{\u001b[39;00mpy_operation_name\u001b[38;5;132;01m}\u001b[39;00m\u001b[38;5;124m() only accepts keyword arguments.\u001b[39m\u001b[38;5;124m\"\u001b[39m\n\u001b[1;32m    563\u001b[0m     )\n\u001b[1;32m    564\u001b[0m \u001b[38;5;66;03m# The \"self\" in this scope is referring to the BaseClient.\u001b[39;00m\n\u001b[0;32m--> 565\u001b[0m \u001b[38;5;28;01mreturn\u001b[39;00m \u001b[38;5;28;43mself\u001b[39;49m\u001b[38;5;241;43m.\u001b[39;49m\u001b[43m_make_api_call\u001b[49m\u001b[43m(\u001b[49m\u001b[43moperation_name\u001b[49m\u001b[43m,\u001b[49m\u001b[43m \u001b[49m\u001b[43mkwargs\u001b[49m\u001b[43m)\u001b[49m\n",
      "File \u001b[0;32m~/.local/lib/python3.9/site-packages/botocore/client.py:1021\u001b[0m, in \u001b[0;36mBaseClient._make_api_call\u001b[0;34m(self, operation_name, api_params)\u001b[0m\n\u001b[1;32m   1017\u001b[0m     error_code \u001b[38;5;241m=\u001b[39m error_info\u001b[38;5;241m.\u001b[39mget(\u001b[38;5;124m\"\u001b[39m\u001b[38;5;124mQueryErrorCode\u001b[39m\u001b[38;5;124m\"\u001b[39m) \u001b[38;5;129;01mor\u001b[39;00m error_info\u001b[38;5;241m.\u001b[39mget(\n\u001b[1;32m   1018\u001b[0m         \u001b[38;5;124m\"\u001b[39m\u001b[38;5;124mCode\u001b[39m\u001b[38;5;124m\"\u001b[39m\n\u001b[1;32m   1019\u001b[0m     )\n\u001b[1;32m   1020\u001b[0m     error_class \u001b[38;5;241m=\u001b[39m \u001b[38;5;28mself\u001b[39m\u001b[38;5;241m.\u001b[39mexceptions\u001b[38;5;241m.\u001b[39mfrom_code(error_code)\n\u001b[0;32m-> 1021\u001b[0m     \u001b[38;5;28;01mraise\u001b[39;00m error_class(parsed_response, operation_name)\n\u001b[1;32m   1022\u001b[0m \u001b[38;5;28;01melse\u001b[39;00m:\n\u001b[1;32m   1023\u001b[0m     \u001b[38;5;28;01mreturn\u001b[39;00m parsed_response\n",
      "\u001b[0;31mClientError\u001b[0m: An error occurred (AccessDeniedException) when calling the UpdateSchedule operation: User: arn:aws:sts::908471171231:assumed-role/dre-poc-nonprod-sagemaker-execution-role/SageMaker is not authorized to perform: scheduler:UpdateSchedule on resource: arn:aws:scheduler:us-east-1:908471171231:schedule/default/savefile-every5min because no identity-based policy allows the scheduler:UpdateSchedule action"
     ]
    }
   ],
   "source": [
    "from sagemaker.workflow.triggers import PipelineSchedule\n",
    "\n",
    "# schedules a pipeline run every 5 minutes\n",
    "my_rate_schedule = PipelineSchedule(\n",
    "    name=\"savefile-every5min\", \n",
    "    rate=(5, \"minutes\")\n",
    ")\n",
    "\n",
    "pipeline.put_triggers(triggers=[my_rate_schedule], role_arn=role)"
   ]
  },
  {
   "cell_type": "code",
   "execution_count": null,
   "id": "5e315409-7951-4042-ad54-5ec1115e71d8",
   "metadata": {},
   "outputs": [],
   "source": []
  },
  {
   "cell_type": "code",
   "execution_count": null,
   "id": "36457405-8e40-469e-8598-b876dd90c89b",
   "metadata": {},
   "outputs": [],
   "source": [
    "datascience team  = Analysis_script.py\n",
    "datascience lead = job.py(which calls above scripty)\n",
    "\n",
    "jenkins pipeline should schedule job.py script without having us to run from sagemaker\n",
    "\n",
    "\n",
    "puzzle: how to trigger job.py outside sagemaker\n"
   ]
  },
  {
   "cell_type": "code",
   "execution_count": null,
   "id": "128c1fbf-8f31-44b7-97d5-80bc08f7efb5",
   "metadata": {},
   "outputs": [],
   "source": []
  }
 ],
 "metadata": {
  "kernelspec": {
   "display_name": "Python 3 (ipykernel)",
   "language": "python",
   "name": "python3"
  },
  "language_info": {
   "codemirror_mode": {
    "name": "ipython",
    "version": 3
   },
   "file_extension": ".py",
   "mimetype": "text/x-python",
   "name": "python",
   "nbconvert_exporter": "python",
   "pygments_lexer": "ipython3",
   "version": "3.9.16"
  }
 },
 "nbformat": 4,
 "nbformat_minor": 5
}
